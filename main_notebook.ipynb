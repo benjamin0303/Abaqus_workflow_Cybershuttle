{
 "cells": [
  {
   "cell_type": "code",
   "execution_count": null,
   "id": "6f91e94c",
   "metadata": {
    "vscode": {
     "languageId": "plaintext"
    }
   },
   "outputs": [],
   "source": [
    "%pip install -qU \"airavata-python-sdk[notebook]\"\n",
    "import airavata_jupyter_magic\n",
    "\n",
    "%authenticate\n",
    "\n",
    "# Request resource on SDSC Expanse\n",
    "#%request_runtime hpc_gpu --file=cybershuttle.yml --walltime=60 --use=expanse:gpu-shared\n",
    " \n",
    "# Request resource on Jetstream 2\n",
    "#%request_runtime hpc_gpu --file=cybershuttle.yml --walltime=60 --use=NeuroData25VC1:cloud\n",
    "\n",
    "# Request resource on Delta\n",
    "%request_runtime hpc_gpu --file=cybershuttle.yml --walltime=60 --use=NCSADelta:gpuA100x4\n",
    "\n",
    "# Request resource on DeltaAI\n",
    "#%request_runtime hpc_gpu --file=cybershuttle.yml --walltime=60 --use=NCSADelta:gpughx4\n",
    "\n",
    "%wait_for_runtime hpc_gpu --live\n",
    "#%copy_data source=local:case.py target=hpc_cpu:case.py\n",
    "\n",
    "%switch_runtime hpc_gpu"
   ]
  },
  {
   "cell_type": "code",
   "execution_count": null,
   "id": "00b746ad",
   "metadata": {
    "vscode": {
     "languageId": "plaintext"
    }
   },
   "outputs": [],
   "source": [
    "%copy_data source=local:PlasticLug_Hard_00025.inp target=hpc_gpu:PlasticLug_Hard_00025.inp\n",
    "%copy_data source=local:time.txt target=hpc_gpu:time.txt\n",
    "%copy_data source=local:data_amp_5000.npy target=hpc_gpu:data_amp_5000.npy"
   ]
  },
  {
   "cell_type": "code",
   "execution_count": null,
   "id": "e18c9f4f",
   "metadata": {
    "vscode": {
     "languageId": "plaintext"
    }
   },
   "outputs": [],
   "source": [
    "import os, sys\n",
    "import numpy as np\n",
    "import argparse\n",
    "from argparse import Namespace\n",
    "\n",
    "\n",
    "parser = argparse.ArgumentParser(\n",
    "        description = 'Create Inputs for multiple abaqus runs for a potential PINN model.',\n",
    "                     epilog = 'This is a start of the PINN Workflow.')\n",
    "parser.add_argument(\"-r\",\"--ref\",help=\"reference input\",type=str)\n",
    "parser.add_argument(\"-t\",\"--timf\",help=\"Time Values.\",type=str)\n",
    "parser.add_argument(\"-a\",\"--ampf\",help=\"Amplitude Data file\",type=str)\n",
    "parser.add_argument(\"-n\",\"--nind\",help=\"Number of Inputs\",type=int,default=\"5000\")\n",
    "\n",
    "if 'ipykernel' in sys.modules:   # Notebook env detection\n",
    "    args = Namespace(ref=\"ref.inp\", timf=\"time_values.txt\", ampf=\"amplitude.csv\", nind=5000)\n",
    "else:\n",
    "    args = parser.parse_args()"
   ]
  }
 ],
 "metadata": {
  "language_info": {
   "name": "python"
  }
 },
 "nbformat": 4,
 "nbformat_minor": 5
}
