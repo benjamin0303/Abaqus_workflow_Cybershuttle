{
 "cells": [
  {
   "cell_type": "code",
   "execution_count": null,
   "id": "6f91e94c",
   "metadata": {
    "vscode": {
     "languageId": "plaintext"
    }
   },
   "outputs": [],
   "source": [
    "import os\n",
    "import numpy as np"
   ]
  }
 ],
 "metadata": {
  "language_info": {
   "name": "python"
  }
 },
 "nbformat": 4,
 "nbformat_minor": 5
}
